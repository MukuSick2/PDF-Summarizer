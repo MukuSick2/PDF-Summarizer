{
 "cells": [
  {
   "cell_type": "code",
   "execution_count": 1,
   "id": "14d2fbce",
   "metadata": {},
   "outputs": [],
   "source": [
    "import pdfplumber\n",
    "import pandas as pd\n",
    "from sqlalchemy import create_engine"
   ]
  },
  {
   "cell_type": "code",
   "execution_count": 2,
   "id": "df9aeefc",
   "metadata": {},
   "outputs": [],
   "source": [
    "# Configs\n",
    "PDF_FILE = \"detailed_invoice.pdf\"\n",
    "DB_USER = \"root\"\n",
    "DB_PASSWORD = \"\"\n",
    "DB_HOST = \"localhost\"\n",
    "DB_NAME = \"etl_pdf\"\n",
    "TABLE_NAME = \"invoice_data\"\n"
   ]
  },
  {
   "cell_type": "code",
   "execution_count": 3,
   "id": "bb23e8b3",
   "metadata": {},
   "outputs": [],
   "source": [
    "def extract_from_pdf(path):\n",
    "    print(f\"📥 Extracting from {path}\")\n",
    "    dataframes = []\n",
    "    with pdfplumber.open(path) as pdf:\n",
    "        for page in pdf.pages:\n",
    "            table = page.extract_table()\n",
    "            if table:\n",
    "                df = pd.DataFrame(table[1:], columns=table[0])\n",
    "                dataframes.append(df)\n",
    "    return pd.concat(dataframes)"
   ]
  },
  {
   "cell_type": "code",
   "execution_count": 4,
   "id": "66e1de1a",
   "metadata": {},
   "outputs": [],
   "source": [
    "# Transform\n",
    "def transform_data(df):\n",
    "    df.columns = [col.strip().lower().replace(\" \", \"_\") for col in df.columns]\n",
    "    df.fillna(\"N/A\", inplace=True)\n",
    "    return df"
   ]
  },
  {
   "cell_type": "code",
   "execution_count": 5,
   "id": "d771be4e",
   "metadata": {},
   "outputs": [],
   "source": [
    "# Load\n",
    "def load_to_mysql(df):\n",
    "    engine = create_engine(f\"mysql+pymysql://{DB_USER}:{DB_PASSWORD}@{DB_HOST}/{DB_NAME}\")\n",
    "    df.to_sql(TABLE_NAME, con=engine, if_exists='replace', index=False)\n",
    "    print(\"✅ Loaded into MySQL table!\")"
   ]
  },
  {
   "cell_type": "code",
   "execution_count": 6,
   "id": "1fb90d18",
   "metadata": {},
   "outputs": [
    {
     "name": "stdout",
     "output_type": "stream",
     "text": [
      "📥 Extracting from detailed_invoice.pdf\n",
      "✅ Loaded into MySQL table!\n",
      "🎉 ETL Completed\n"
     ]
    }
   ],
   "source": [
    "# Run ETL\n",
    "if __name__ == \"__main__\":\n",
    "    raw = extract_from_pdf(PDF_FILE)\n",
    "    clean = transform_data(raw)\n",
    "    load_to_mysql(clean)\n",
    "    print(\"🎉 ETL Completed\")"
   ]
  },
  {
   "cell_type": "code",
   "execution_count": null,
   "id": "eacc11ff",
   "metadata": {},
   "outputs": [],
   "source": []
  },
  {
   "cell_type": "code",
   "execution_count": null,
   "id": "443bf505",
   "metadata": {},
   "outputs": [],
   "source": []
  },
  {
   "cell_type": "code",
   "execution_count": null,
   "id": "81dd0e06",
   "metadata": {},
   "outputs": [],
   "source": []
  },
  {
   "cell_type": "code",
   "execution_count": null,
   "id": "36887501",
   "metadata": {},
   "outputs": [],
   "source": []
  },
  {
   "cell_type": "code",
   "execution_count": null,
   "id": "c5f95fe4",
   "metadata": {},
   "outputs": [],
   "source": []
  },
  {
   "cell_type": "code",
   "execution_count": null,
   "id": "86e42e0a",
   "metadata": {},
   "outputs": [],
   "source": []
  },
  {
   "cell_type": "code",
   "execution_count": null,
   "id": "4c672881",
   "metadata": {},
   "outputs": [],
   "source": []
  },
  {
   "cell_type": "code",
   "execution_count": null,
   "id": "271f4e9b",
   "metadata": {},
   "outputs": [],
   "source": []
  }
 ],
 "metadata": {
  "kernelspec": {
   "display_name": "Python 3",
   "language": "python",
   "name": "python3"
  },
  "language_info": {
   "codemirror_mode": {
    "name": "ipython",
    "version": 3
   },
   "file_extension": ".py",
   "mimetype": "text/x-python",
   "name": "python",
   "nbconvert_exporter": "python",
   "pygments_lexer": "ipython3",
   "version": "3.10.6"
  }
 },
 "nbformat": 4,
 "nbformat_minor": 5
}
